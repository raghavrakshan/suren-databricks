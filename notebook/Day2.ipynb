{
 "cells": [
  {
   "cell_type": "code",
   "execution_count": 0,
   "metadata": {
    "application/vnd.databricks.v1+cell": {
     "cellMetadata": {
      "byteLimit": 2048000,
      "rowLimit": 10000
     },
     "inputWidgets": {},
     "nuid": "76b8401f-fa09-4654-91e0-e90c1edf701a",
     "showTitle": false,
     "tableResultSettingsMap": {},
     "title": ""
    }
   },
   "outputs": [],
   "source": [
    "print(\"Hello World\")"
   ]
  },
  {
   "cell_type": "markdown",
   "metadata": {
    "application/vnd.databricks.v1+cell": {
     "cellMetadata": {},
     "inputWidgets": {},
     "nuid": "328342f4-c2f0-4885-944e-f03c1030f70b",
     "showTitle": false,
     "tableResultSettingsMap": {},
     "title": ""
    }
   },
   "source": [
    "##Restore"
   ]
  },
  {
   "cell_type": "code",
   "execution_count": 0,
   "metadata": {
    "application/vnd.databricks.v1+cell": {
     "cellMetadata": {
      "byteLimit": 2048000,
      "implicitDf": true,
      "rowLimit": 10000
     },
     "inputWidgets": {},
     "nuid": "c9dd8e4c-b8e6-4322-8e4d-0a6de2b3d32c",
     "showTitle": false,
     "tableResultSettingsMap": {},
     "title": ""
    }
   },
   "outputs": [],
   "source": [
    "%sql\n",
    "use catalog dev;\n",
    "create schema if not exists suren;"
   ]
  },
  {
   "cell_type": "code",
   "execution_count": 0,
   "metadata": {
    "application/vnd.databricks.v1+cell": {
     "cellMetadata": {
      "byteLimit": 2048000,
      "implicitDf": true,
      "rowLimit": 10000
     },
     "inputWidgets": {},
     "nuid": "4df1ea10-ee7b-4b4c-8ca4-748353b20853",
     "showTitle": false,
     "tableResultSettingsMap": {},
     "title": ""
    }
   },
   "outputs": [],
   "source": [
    "%sql\n",
    "create or replace table dev.suren.sample (id int, name string);"
   ]
  },
  {
   "cell_type": "code",
   "execution_count": 0,
   "metadata": {
    "application/vnd.databricks.v1+cell": {
     "cellMetadata": {
      "byteLimit": 2048000,
      "implicitDf": true,
      "rowLimit": 10000
     },
     "inputWidgets": {},
     "nuid": "fcccd88d-adce-43e3-9cbf-d632b5da32c4",
     "showTitle": false,
     "tableResultSettingsMap": {},
     "title": ""
    }
   },
   "outputs": [],
   "source": [
    "%sql\n",
    "insert into dev.suren.sample values (1,'name1'), (2, 'name2'), (3,'name3');"
   ]
  },
  {
   "cell_type": "code",
   "execution_count": 0,
   "metadata": {
    "application/vnd.databricks.v1+cell": {
     "cellMetadata": {
      "byteLimit": 2048000,
      "implicitDf": true,
      "rowLimit": 10000
     },
     "inputWidgets": {},
     "nuid": "36d5761c-cfce-40a6-91c6-333455d6f410",
     "showTitle": false,
     "tableResultSettingsMap": {},
     "title": ""
    }
   },
   "outputs": [],
   "source": [
    "%sql\n",
    "describe history dev.suren.sample;"
   ]
  },
  {
   "cell_type": "code",
   "execution_count": 0,
   "metadata": {
    "application/vnd.databricks.v1+cell": {
     "cellMetadata": {
      "byteLimit": 2048000,
      "implicitDf": true,
      "rowLimit": 10000
     },
     "inputWidgets": {},
     "nuid": "6fc8186e-648d-4966-9265-7347c6771d1a",
     "showTitle": false,
     "tableResultSettingsMap": {},
     "title": ""
    }
   },
   "outputs": [],
   "source": [
    "%sql\n",
    "select * from dev.suren.sample;"
   ]
  },
  {
   "cell_type": "code",
   "execution_count": 0,
   "metadata": {
    "application/vnd.databricks.v1+cell": {
     "cellMetadata": {
      "byteLimit": 2048000,
      "implicitDf": true,
      "rowLimit": 10000
     },
     "inputWidgets": {},
     "nuid": "2cfd1323-d30c-4e33-accd-dad498ff8370",
     "showTitle": false,
     "tableResultSettingsMap": {},
     "title": ""
    }
   },
   "outputs": [],
   "source": [
    "%sql\n",
    "delete from dev.suren.sample;"
   ]
  },
  {
   "cell_type": "code",
   "execution_count": 0,
   "metadata": {
    "application/vnd.databricks.v1+cell": {
     "cellMetadata": {
      "byteLimit": 2048000,
      "implicitDf": true,
      "rowLimit": 10000
     },
     "inputWidgets": {},
     "nuid": "e4657d88-b311-4057-a7f3-1ce9656712d4",
     "showTitle": false,
     "tableResultSettingsMap": {},
     "title": ""
    }
   },
   "outputs": [],
   "source": [
    "%sql\n",
    "create or replace table dev.suren.sample_restore as\n",
    "select * from dev.suren.sample version as of 1;\n",
    "    \n",
    "select * from dev.suren.sample_restore"
   ]
  },
  {
   "cell_type": "code",
   "execution_count": 0,
   "metadata": {
    "application/vnd.databricks.v1+cell": {
     "cellMetadata": {
      "byteLimit": 2048000,
      "implicitDf": true,
      "rowLimit": 10000
     },
     "inputWidgets": {},
     "nuid": "0b298e4c-b242-4761-a411-4234e731eddb",
     "showTitle": false,
     "tableResultSettingsMap": {},
     "title": ""
    }
   },
   "outputs": [],
   "source": [
    "%sql\n",
    "drop table dev.suren.sample_restore;"
   ]
  },
  {
   "cell_type": "code",
   "execution_count": 0,
   "metadata": {
    "application/vnd.databricks.v1+cell": {
     "cellMetadata": {
      "byteLimit": 2048000,
      "implicitDf": true,
      "rowLimit": 10000
     },
     "inputWidgets": {},
     "nuid": "b1db7f5b-12d6-4014-b6c1-2fe43c930048",
     "showTitle": false,
     "tableResultSettingsMap": {},
     "title": ""
    }
   },
   "outputs": [],
   "source": [
    "%sql\n",
    "undrop table dev.suren.sample_restore;\n",
    "    \n",
    "select * from dev.suren.sample_restore;"
   ]
  },
  {
   "cell_type": "code",
   "execution_count": 0,
   "metadata": {
    "application/vnd.databricks.v1+cell": {
     "cellMetadata": {
      "byteLimit": 2048000,
      "implicitDf": true,
      "rowLimit": 10000
     },
     "inputWidgets": {},
     "nuid": "f742d527-7122-437b-bd52-1360336b076a",
     "showTitle": false,
     "tableResultSettingsMap": {},
     "title": ""
    }
   },
   "outputs": [],
   "source": [
    "%sql\n",
    "delete from dev.suren.sample_restore;"
   ]
  },
  {
   "cell_type": "code",
   "execution_count": 0,
   "metadata": {
    "application/vnd.databricks.v1+cell": {
     "cellMetadata": {
      "byteLimit": 2048000,
      "implicitDf": true,
      "rowLimit": 10000
     },
     "inputWidgets": {},
     "nuid": "21edee2f-a35b-49e1-9ca6-a6a1117ae26b",
     "showTitle": false,
     "tableResultSettingsMap": {},
     "title": ""
    }
   },
   "outputs": [],
   "source": [
    "%sql\n",
    "describe history dev.suren.sample_restore"
   ]
  },
  {
   "cell_type": "code",
   "execution_count": 0,
   "metadata": {
    "application/vnd.databricks.v1+cell": {
     "cellMetadata": {
      "byteLimit": 2048000,
      "implicitDf": true,
      "rowLimit": 10000
     },
     "inputWidgets": {},
     "nuid": "852d5c66-c53d-441f-a1c8-96382eb27854",
     "showTitle": false,
     "tableResultSettingsMap": {},
     "title": ""
    }
   },
   "outputs": [],
   "source": [
    "%sql\n",
    "restore table dev.suren.sample_restore version as of 1;\n",
    "select * from dev.suren.sample_restore;"
   ]
  },
  {
   "cell_type": "code",
   "execution_count": 0,
   "metadata": {
    "application/vnd.databricks.v1+cell": {
     "cellMetadata": {
      "byteLimit": 2048000,
      "implicitDf": true,
      "rowLimit": 10000
     },
     "inputWidgets": {},
     "nuid": "5b5f59f9-61ef-449a-b541-d181af98d93c",
     "showTitle": false,
     "tableResultSettingsMap": {},
     "title": ""
    }
   },
   "outputs": [],
   "source": [
    "%sql\n",
    "describe extended dev.suren.sample_restore;"
   ]
  },
  {
   "cell_type": "code",
   "execution_count": 0,
   "metadata": {
    "application/vnd.databricks.v1+cell": {
     "cellMetadata": {
      "byteLimit": 2048000,
      "implicitDf": true,
      "rowLimit": 10000
     },
     "inputWidgets": {},
     "nuid": "2f5aa1d3-fa9b-4e2b-bcff-82e470796214",
     "showTitle": false,
     "tableResultSettingsMap": {},
     "title": ""
    }
   },
   "outputs": [],
   "source": [
    "%sql\n",
    "describe detail dev.suren.sample_restore;"
   ]
  },
  {
   "cell_type": "markdown",
   "metadata": {
    "application/vnd.databricks.v1+cell": {
     "cellMetadata": {},
     "inputWidgets": {},
     "nuid": "35c14642-eae4-43af-9d6e-f8f9430714a5",
     "showTitle": false,
     "tableResultSettingsMap": {},
     "title": ""
    }
   },
   "source": [
    "## Optimize, Zorder, Vaccum"
   ]
  },
  {
   "cell_type": "code",
   "execution_count": 0,
   "metadata": {
    "application/vnd.databricks.v1+cell": {
     "cellMetadata": {
      "byteLimit": 2048000,
      "implicitDf": true,
      "rowLimit": 10000
     },
     "inputWidgets": {},
     "nuid": "3afa183b-0d59-43fb-b3bb-26f6ae5439d3",
     "showTitle": false,
     "tableResultSettingsMap": {},
     "title": ""
    }
   },
   "outputs": [],
   "source": [
    "%sql\n",
    "insert into dev.suren.sample values (101,'Name101');\n",
    "insert into dev.suren.sample values (102,'Name102');\n",
    "insert into dev.suren.sample values (103,'Name103');\n",
    "insert into dev.suren.sample values (104,'Name104');\n",
    "insert into dev.suren.sample values (105,'Name105');\n",
    "insert into dev.suren.sample values (106,'Name106');\n",
    "insert into dev.suren.sample values (107,'Name107');\n",
    "insert into dev.suren.sample values (108,'Name108');\n",
    "insert into dev.suren.sample values (109,'Name109');\n",
    "insert into dev.suren.sample values (110,'Name110');\n",
    "insert into dev.suren.sample values (111,'Name111');\n",
    "insert into dev.suren.sample values (112,'Name112');\n",
    "insert into dev.suren.sample values (113,'Name113');\n",
    "insert into dev.suren.sample values (114,'Name114');\n",
    "insert into dev.suren.sample values (115,'Name115');\n",
    "insert into dev.suren.sample values (116,'Name116');\n",
    "insert into dev.suren.sample values (117,'Name117');\n",
    "insert into dev.suren.sample values (118,'Name118');\n",
    "insert into dev.suren.sample values (119,'Name119');\n",
    "insert into dev.suren.sample values (120,'Name120');\n",
    "insert into dev.suren.sample values (121,'Name121');\n",
    "insert into dev.suren.sample values (122,'Name122');\n",
    "insert into dev.suren.sample values (123,'Name123');\n",
    "insert into dev.suren.sample values (124,'Name124');\n",
    "insert into dev.suren.sample values (125,'Name125');\n",
    "insert into dev.suren.sample values (126,'Name126');\n",
    "insert into dev.suren.sample values (127,'Name127');\n",
    "insert into dev.suren.sample values (128,'Name128');\n",
    "insert into dev.suren.sample values (129,'Name129');\n",
    "insert into dev.suren.sample values (130,'Name130');\n",
    "insert into dev.suren.sample values (131,'Name131');\n",
    "insert into dev.suren.sample values (132,'Name132');\n",
    "insert into dev.suren.sample values (133,'Name133');\n",
    "insert into dev.suren.sample values (134,'Name134');\n",
    "insert into dev.suren.sample values (135,'Name135');\n",
    "insert into dev.suren.sample values (136,'Name136');\n",
    "insert into dev.suren.sample values (137,'Name137');\n",
    "insert into dev.suren.sample values (138,'Name138');\n",
    "insert into dev.suren.sample values (139,'Name139');\n",
    "insert into dev.suren.sample values (140,'Name140');\n",
    "insert into dev.suren.sample values (141,'Name141');\n",
    "insert into dev.suren.sample values (142,'Name142');\n",
    "insert into dev.suren.sample values (143,'Name143');\n",
    "insert into dev.suren.sample values (144,'Name144');\n",
    "insert into dev.suren.sample values (145,'Name145');\n",
    "insert into dev.suren.sample values (146,'Name146');\n",
    "insert into dev.suren.sample values (147,'Name147');\n",
    "insert into dev.suren.sample values (148,'Name148');\n",
    "insert into dev.suren.sample values (149,'Name149');\n",
    "insert into dev.suren.sample values (150,'Name150');\n",
    "insert into dev.suren.sample values (151,'Name151');\n",
    "insert into dev.suren.sample values (152,'Name152');\n",
    "insert into dev.suren.sample values (153,'Name153');\n",
    "insert into dev.suren.sample values (154,'Name154');\n",
    "insert into dev.suren.sample values (155,'Name155');\n",
    "insert into dev.suren.sample values (156,'Name156');\n",
    "insert into dev.suren.sample values (157,'Name157');\n",
    "insert into dev.suren.sample values (158,'Name158');\n",
    "insert into dev.suren.sample values (159,'Name159');\n",
    "insert into dev.suren.sample values (160,'Name160');\n",
    "insert into dev.suren.sample values (161,'Name161');\n",
    "insert into dev.suren.sample values (162,'Name162');\n",
    "insert into dev.suren.sample values (163,'Name163');\n",
    "insert into dev.suren.sample values (164,'Name164');\n",
    "insert into dev.suren.sample values (165,'Name165');\n",
    "insert into dev.suren.sample values (166,'Name166');\n",
    "insert into dev.suren.sample values (167,'Name167');\n",
    "insert into dev.suren.sample values (168,'Name168');\n",
    "insert into dev.suren.sample values (169,'Name169');\n",
    "insert into dev.suren.sample values (170,'Name170');\n",
    "insert into dev.suren.sample values (171,'Name171');\n",
    "insert into dev.suren.sample values (172,'Name172');\n",
    "insert into dev.suren.sample values (173,'Name173');\n",
    "insert into dev.suren.sample values (174,'Name174');\n",
    "insert into dev.suren.sample values (175,'Name175');\n",
    "insert into dev.suren.sample values (176,'Name176');\n",
    "insert into dev.suren.sample values (177,'Name177');\n",
    "insert into dev.suren.sample values (178,'Name178');\n",
    "insert into dev.suren.sample values (179,'Name179');\n",
    "insert into dev.suren.sample values (180,'Name180');\n",
    "insert into dev.suren.sample values (181,'Name181');\n",
    "insert into dev.suren.sample values (182,'Name182');\n",
    "insert into dev.suren.sample values (183,'Name183');\n",
    "insert into dev.suren.sample values (184,'Name184');\n",
    "insert into dev.suren.sample values (185,'Name185');\n",
    "insert into dev.suren.sample values (186,'Name186');\n",
    "insert into dev.suren.sample values (187,'Name187');\n",
    "insert into dev.suren.sample values (188,'Name188');\n",
    "insert into dev.suren.sample values (189,'Name189');\n",
    "insert into dev.suren.sample values (190,'Name190');\n",
    "insert into dev.suren.sample values (191,'Name191');\n",
    "insert into dev.suren.sample values (192,'Name192');\n",
    "insert into dev.suren.sample values (193,'Name193');\n",
    "insert into dev.suren.sample values (194,'Name194');\n",
    "insert into dev.suren.sample values (195,'Name195');\n",
    "insert into dev.suren.sample values (196,'Name196');\n",
    "insert into dev.suren.sample values (197,'Name197');\n",
    "insert into dev.suren.sample values (198,'Name198');\n",
    "insert into dev.suren.sample values (199,'Name199');\n",
    "insert into dev.suren.sample values (200,'Name200');\n",
    "insert into dev.suren.sample values (201,'Name201');\n",
    "insert into dev.suren.sample values (202,'Name202');\n",
    "insert into dev.suren.sample values (203,'Name203');\n",
    "insert into dev.suren.sample values (204,'Name204');\n",
    "insert into dev.suren.sample values (205,'Name205');\n",
    "insert into dev.suren.sample values (206,'Name206');\n",
    "insert into dev.suren.sample values (207,'Name207');\n",
    "insert into dev.suren.sample values (208,'Name208');\n",
    "insert into dev.suren.sample values (209,'Name209');\n",
    "insert into dev.suren.sample values (210,'Name210');\n",
    "insert into dev.suren.sample values (211,'Name211');\n",
    "insert into dev.suren.sample values (212,'Name212');\n",
    "insert into dev.suren.sample values (213,'Name213');\n",
    "insert into dev.suren.sample values (214,'Name214');\n",
    "insert into dev.suren.sample values (215,'Name215');\n",
    "insert into dev.suren.sample values (216,'Name216');\n",
    "insert into dev.suren.sample values (217,'Name217');\n",
    "insert into dev.suren.sample values (218,'Name218');"
   ]
  },
  {
   "cell_type": "code",
   "execution_count": 0,
   "metadata": {
    "application/vnd.databricks.v1+cell": {
     "cellMetadata": {
      "byteLimit": 2048000,
      "implicitDf": true,
      "rowLimit": 10000
     },
     "inputWidgets": {},
     "nuid": "ea41c932-705b-4870-84a7-d90472dc6d78",
     "showTitle": false,
     "tableResultSettingsMap": {},
     "title": ""
    }
   },
   "outputs": [],
   "source": [
    "%sql\n",
    "describe detail dev.suren.sample;"
   ]
  },
  {
   "cell_type": "code",
   "execution_count": 0,
   "metadata": {
    "application/vnd.databricks.v1+cell": {
     "cellMetadata": {
      "byteLimit": 2048000,
      "implicitDf": true,
      "rowLimit": 10000
     },
     "inputWidgets": {},
     "nuid": "3a1d1d7c-138a-474e-ae65-57bda7a3232c",
     "showTitle": false,
     "tableResultSettingsMap": {},
     "title": ""
    }
   },
   "outputs": [],
   "source": [
    "%sql\n",
    "optimize dev.suren.sample\n",
    "zorder by (id);"
   ]
  },
  {
   "cell_type": "code",
   "execution_count": 0,
   "metadata": {
    "application/vnd.databricks.v1+cell": {
     "cellMetadata": {
      "byteLimit": 2048000,
      "implicitDf": true,
      "rowLimit": 10000
     },
     "inputWidgets": {},
     "nuid": "435cf974-21cc-42f9-81b5-4974f3993ac6",
     "showTitle": false,
     "tableResultSettingsMap": {},
     "title": ""
    }
   },
   "outputs": [],
   "source": [
    "%sql\n",
    "describe detail dev.suren.sample;"
   ]
  },
  {
   "cell_type": "code",
   "execution_count": 0,
   "metadata": {
    "application/vnd.databricks.v1+cell": {
     "cellMetadata": {
      "byteLimit": 2048000,
      "implicitDf": true,
      "rowLimit": 10000
     },
     "inputWidgets": {},
     "nuid": "ff97e7de-a4bd-4fc2-9773-a0f4dfff6d87",
     "showTitle": false,
     "tableResultSettingsMap": {
      "0": {
       "dataGridStateBlob": "{\"version\":1,\"tableState\":{\"columnPinning\":{\"left\":[\"#row_number#\"],\"right\":[]},\"columnSizing\":{\"data_type\":830},\"columnVisibility\":{}},\"settings\":{\"columns\":{}},\"syncTimestamp\":1753777258060}",
       "filterBlob": null,
       "queryPlanFiltersBlob": null,
       "tableResultIndex": 0
      }
     },
     "title": ""
    }
   },
   "outputs": [],
   "source": [
    "%sql\n",
    "describe extended dev.suren.sample;"
   ]
  },
  {
   "cell_type": "code",
   "execution_count": 0,
   "metadata": {
    "application/vnd.databricks.v1+cell": {
     "cellMetadata": {
      "byteLimit": 2048000,
      "implicitDf": true,
      "rowLimit": 10000
     },
     "inputWidgets": {},
     "nuid": "3160fedc-c187-4bb9-b4c5-11d9e7a4baa9",
     "showTitle": false,
     "tableResultSettingsMap": {},
     "title": ""
    }
   },
   "outputs": [],
   "source": [
    "%sql\n",
    "show tblproperties dev.suren.sample;"
   ]
  },
  {
   "cell_type": "code",
   "execution_count": 0,
   "metadata": {
    "application/vnd.databricks.v1+cell": {
     "cellMetadata": {
      "byteLimit": 2048000,
      "implicitDf": true,
      "rowLimit": 10000
     },
     "inputWidgets": {},
     "nuid": "39be3bb5-b497-4d26-b3e8-e41903b835d3",
     "showTitle": false,
     "tableResultSettingsMap": {},
     "title": ""
    }
   },
   "outputs": [],
   "source": [
    "%sql\n",
    "ALTER TABLE dev.suren.sample SET TBLPROPERTIES ('delta.deletedFileRetentionDuration' = 'interval 0 hours');"
   ]
  },
  {
   "cell_type": "code",
   "execution_count": 0,
   "metadata": {
    "application/vnd.databricks.v1+cell": {
     "cellMetadata": {
      "byteLimit": 2048000,
      "implicitDf": true,
      "rowLimit": 10000
     },
     "inputWidgets": {},
     "nuid": "1c8512ee-2178-4a3b-8921-d57bee6f3129",
     "showTitle": false,
     "tableResultSettingsMap": {},
     "title": ""
    }
   },
   "outputs": [],
   "source": [
    "%sql\n",
    "show tblproperties dev.suren.sample;"
   ]
  },
  {
   "cell_type": "code",
   "execution_count": 0,
   "metadata": {
    "application/vnd.databricks.v1+cell": {
     "cellMetadata": {
      "byteLimit": 2048000,
      "implicitDf": true,
      "rowLimit": 10000
     },
     "inputWidgets": {},
     "nuid": "0f7bc12e-38dd-45bf-9ffe-2f52d1a083e6",
     "showTitle": false,
     "tableResultSettingsMap": {},
     "title": ""
    }
   },
   "outputs": [],
   "source": [
    "%sql\n",
    "vacuum dev.suren.sample retain 0 hours;"
   ]
  },
  {
   "cell_type": "code",
   "execution_count": 0,
   "metadata": {
    "application/vnd.databricks.v1+cell": {
     "cellMetadata": {
      "byteLimit": 2048000,
      "implicitDf": true,
      "rowLimit": 10000
     },
     "inputWidgets": {},
     "nuid": "8ac9bde2-a0b3-40db-85ff-5e0ad20f15a3",
     "showTitle": false,
     "tableResultSettingsMap": {},
     "title": ""
    }
   },
   "outputs": [],
   "source": [
    "%sql\n",
    "describe detail dev.suren.sample;"
   ]
  },
  {
   "cell_type": "code",
   "execution_count": 0,
   "metadata": {
    "application/vnd.databricks.v1+cell": {
     "cellMetadata": {
      "byteLimit": 2048000,
      "implicitDf": true,
      "rowLimit": 10000
     },
     "inputWidgets": {},
     "nuid": "32e2f702-6e40-4af3-912b-20640a0e884d",
     "showTitle": false,
     "tableResultSettingsMap": {},
     "title": ""
    }
   },
   "outputs": [],
   "source": [
    "%sql\n",
    "select * from dev.suren.sample;"
   ]
  },
  {
   "cell_type": "markdown",
   "metadata": {
    "application/vnd.databricks.v1+cell": {
     "cellMetadata": {},
     "inputWidgets": {},
     "nuid": "81f32e4a-ddd2-4801-b176-3c46c384247b",
     "showTitle": false,
     "tableResultSettingsMap": {},
     "title": ""
    }
   },
   "source": [
    "##External Table"
   ]
  },
  {
   "cell_type": "code",
   "execution_count": 0,
   "metadata": {
    "application/vnd.databricks.v1+cell": {
     "cellMetadata": {
      "byteLimit": 2048000,
      "implicitDf": true,
      "rowLimit": 10000
     },
     "inputWidgets": {},
     "nuid": "638e7339-8730-4d4d-a61a-904f9299d01d",
     "showTitle": false,
     "tableResultSettingsMap": {},
     "title": ""
    }
   },
   "outputs": [],
   "source": [
    "%sql\n",
    "create table dev.suren.sample_ext (id int) location 's3://jpmctraining/delta/suren/sample_ext';"
   ]
  },
  {
   "cell_type": "code",
   "execution_count": 0,
   "metadata": {
    "application/vnd.databricks.v1+cell": {
     "cellMetadata": {
      "byteLimit": 2048000,
      "implicitDf": true,
      "rowLimit": 10000
     },
     "inputWidgets": {},
     "nuid": "bfe1ecdf-1f7e-4914-9e92-83966f6968d0",
     "showTitle": false,
     "tableResultSettingsMap": {},
     "title": ""
    }
   },
   "outputs": [],
   "source": [
    "%sql\n",
    "describe extended dev.suren.sample_ext;"
   ]
  },
  {
   "cell_type": "code",
   "execution_count": 0,
   "metadata": {
    "application/vnd.databricks.v1+cell": {
     "cellMetadata": {
      "byteLimit": 2048000,
      "implicitDf": true,
      "rowLimit": 10000
     },
     "inputWidgets": {},
     "nuid": "cd62a124-d7ac-4a5b-a9e1-a4e18b01cc3e",
     "showTitle": false,
     "tableResultSettingsMap": {},
     "title": ""
    }
   },
   "outputs": [],
   "source": [
    "%sql\n",
    "insert into dev.suren.sample_ext values(1);"
   ]
  },
  {
   "cell_type": "code",
   "execution_count": 0,
   "metadata": {
    "application/vnd.databricks.v1+cell": {
     "cellMetadata": {
      "byteLimit": 2048000,
      "implicitDf": true,
      "rowLimit": 10000
     },
     "inputWidgets": {},
     "nuid": "cc9eea8c-ea72-4407-85a5-7b742e6ad774",
     "showTitle": false,
     "tableResultSettingsMap": {},
     "title": ""
    }
   },
   "outputs": [],
   "source": [
    "%sql\n",
    "select * from dev.suren.sample_ext;"
   ]
  },
  {
   "cell_type": "markdown",
   "metadata": {
    "application/vnd.databricks.v1+cell": {
     "cellMetadata": {},
     "inputWidgets": {},
     "nuid": "99cd2bc4-4078-4ffa-abcd-e8d538a6a2cb",
     "showTitle": false,
     "tableResultSettingsMap": {},
     "title": ""
    }
   },
   "source": [
    "## Bronze/Silver/Gold Layered ingestion"
   ]
  },
  {
   "cell_type": "code",
   "execution_count": 0,
   "metadata": {
    "application/vnd.databricks.v1+cell": {
     "cellMetadata": {
      "byteLimit": 2048000,
      "implicitDf": true,
      "rowLimit": 10000
     },
     "inputWidgets": {},
     "nuid": "13bd4391-10b4-40e0-91d9-a88b96eae796",
     "showTitle": false,
     "tableResultSettingsMap": {},
     "title": ""
    }
   },
   "outputs": [],
   "source": [
    "%sql\n",
    "use catalog dev;\n",
    "use schema suren_bronze;"
   ]
  },
  {
   "cell_type": "code",
   "execution_count": 0,
   "metadata": {
    "application/vnd.databricks.v1+cell": {
     "cellMetadata": {
      "byteLimit": 2048000,
      "implicitDf": true,
      "rowLimit": 10000
     },
     "inputWidgets": {},
     "nuid": "99fdc5c0-330c-41ba-936a-d3cd2f890983",
     "showTitle": false,
     "tableResultSettingsMap": {},
     "title": ""
    }
   },
   "outputs": [],
   "source": [
    "%sql\n",
    "select * from products"
   ]
  },
  {
   "cell_type": "code",
   "execution_count": 0,
   "metadata": {
    "application/vnd.databricks.v1+cell": {
     "cellMetadata": {
      "byteLimit": 2048000,
      "implicitDf": true,
      "rowLimit": 10000
     },
     "inputWidgets": {},
     "nuid": "e2df7413-baba-4573-9e27-ba000bdfccf7",
     "showTitle": false,
     "tableResultSettingsMap": {},
     "title": ""
    }
   },
   "outputs": [],
   "source": [
    "%sql\n",
    "create table suren_silver.product_scd \n",
    "(product_id int,\n",
    "product_name string,\n",
    "product_category string,\n",
    "product_price double\n",
    ");\n",
    "select * from suren_silver.product_scd;"
   ]
  },
  {
   "cell_type": "code",
   "execution_count": 0,
   "metadata": {
    "application/vnd.databricks.v1+cell": {
     "cellMetadata": {
      "byteLimit": 2048000,
      "implicitDf": true,
      "rowLimit": 10000
     },
     "inputWidgets": {},
     "nuid": "32471df6-840d-41be-a9f7-742b9c02327b",
     "showTitle": false,
     "tableResultSettingsMap": {},
     "title": ""
    }
   },
   "outputs": [],
   "source": [
    "%sql\n",
    "WITH deduplicated_source AS (\n",
    "    SELECT \n",
    "        s.*,\n",
    "        ROW_NUMBER() OVER (PARTITION BY product_id ORDER BY seqNum DESC) as row_num\n",
    "    FROM dev.suren_bronze.products s\n",
    ")\n",
    "MERGE INTO dev.suren_silver.product_scd t\n",
    "USING (SELECT * FROM deduplicated_source WHERE row_num = 1\n",
    ") s\n",
    "ON t.product_id = s.product_id\n",
    "WHEN MATCHED and s.operation='UPDATE' \n",
    "    THEN \n",
    "        UPDATE SET \n",
    "    t.product_name = s.product_name,\n",
    "    t.product_category = s.product_category,\n",
    "    t.product_price = s.product_price\n",
    "WHEN MATCHED AND s.operation='DELETE'\n",
    "THEN \n",
    "DELETE\n",
    "WHEN NOT MATCHED THEN \n",
    "INSERT \n",
    "    (product_id, product_name, product_category, product_price) \n",
    "VALUES \n",
    "    (s.product_id, s.product_name, s.product_category, s.product_price)"
   ]
  },
  {
   "cell_type": "code",
   "execution_count": 0,
   "metadata": {
    "application/vnd.databricks.v1+cell": {
     "cellMetadata": {
      "byteLimit": 2048000,
      "implicitDf": true,
      "rowLimit": 10000
     },
     "inputWidgets": {},
     "nuid": "b0cbdedd-40cc-44a0-aebf-855855786c53",
     "showTitle": false,
     "tableResultSettingsMap": {},
     "title": ""
    }
   },
   "outputs": [],
   "source": [
    "%sql\n",
    "select * from dev.suren_silver.product_scd\n",
    "-- delete from dev.suren_silver.product_scd"
   ]
  },
  {
   "cell_type": "markdown",
   "metadata": {
    "application/vnd.databricks.v1+cell": {
     "cellMetadata": {},
     "inputWidgets": {},
     "nuid": "eff46c12-1e74-4d09-8be7-dbd97b6c5581",
     "showTitle": false,
     "tableResultSettingsMap": {},
     "title": ""
    }
   },
   "source": [
    "##### User Defined Functions (UDF)"
   ]
  },
  {
   "cell_type": "code",
   "execution_count": 0,
   "metadata": {
    "application/vnd.databricks.v1+cell": {
     "cellMetadata": {
      "byteLimit": 2048000,
      "implicitDf": true,
      "rowLimit": 10000
     },
     "inputWidgets": {},
     "nuid": "111beb41-196b-4d10-8e67-e59886bf501a",
     "showTitle": false,
     "tableResultSettingsMap": {},
     "title": ""
    }
   },
   "outputs": [],
   "source": [
    "%sql\n",
    "create or replace function dev.suren_gold.fullName(first string, last string) returns string\n",
    "return concat(first, ' ', last)"
   ]
  },
  {
   "cell_type": "code",
   "execution_count": 0,
   "metadata": {
    "application/vnd.databricks.v1+cell": {
     "cellMetadata": {
      "byteLimit": 2048000,
      "implicitDf": true,
      "rowLimit": 10000
     },
     "inputWidgets": {},
     "nuid": "857371cb-c2ce-4147-9b7a-a7794975f90a",
     "showTitle": false,
     "tableResultSettingsMap": {},
     "title": ""
    }
   },
   "outputs": [],
   "source": [
    "%sql\n",
    "select dev.suren_gold.fullName('a','b') as myName"
   ]
  },
  {
   "cell_type": "code",
   "execution_count": 0,
   "metadata": {
    "application/vnd.databricks.v1+cell": {
     "cellMetadata": {
      "byteLimit": 2048000,
      "rowLimit": 10000
     },
     "inputWidgets": {},
     "nuid": "730a3a34-e9f2-43de-b0a0-ffecd5a61c61",
     "showTitle": false,
     "tableResultSettingsMap": {},
     "title": ""
    }
   },
   "outputs": [],
   "source": [
    "df=spark.read.table(\"dev.suren_bronze.sales\")"
   ]
  },
  {
   "cell_type": "code",
   "execution_count": 0,
   "metadata": {
    "application/vnd.databricks.v1+cell": {
     "cellMetadata": {
      "byteLimit": 2048000,
      "rowLimit": 10000
     },
     "inputWidgets": {},
     "nuid": "983f45c9-88f4-489c-9e6a-03d5b128fee8",
     "showTitle": false,
     "tableResultSettingsMap": {},
     "title": ""
    }
   },
   "outputs": [],
   "source": [
    "df.display()"
   ]
  },
  {
   "cell_type": "code",
   "execution_count": 0,
   "metadata": {
    "application/vnd.databricks.v1+cell": {
     "cellMetadata": {
      "byteLimit": 2048000,
      "rowLimit": 10000
     },
     "inputWidgets": {},
     "nuid": "6dab19c1-a02a-4f0b-8046-a3c954a08c5e",
     "showTitle": false,
     "tableResultSettingsMap": {},
     "title": ""
    }
   },
   "outputs": [],
   "source": [
    "df_cleaned=df.dropDuplicates().dropna().drop(\"ingestion_date\")"
   ]
  },
  {
   "cell_type": "code",
   "execution_count": 0,
   "metadata": {
    "application/vnd.databricks.v1+cell": {
     "cellMetadata": {
      "byteLimit": 2048000,
      "rowLimit": 10000
     },
     "inputWidgets": {},
     "nuid": "0773e6f4-c67b-49cf-88fb-bb4f1566753b",
     "showTitle": false,
     "tableResultSettingsMap": {},
     "title": ""
    }
   },
   "outputs": [],
   "source": [
    "df_cleaned.write.mode(\"overwrite\").saveAsTable(\"dev.suren_silver.sales_cleaned\")"
   ]
  },
  {
   "cell_type": "code",
   "execution_count": 0,
   "metadata": {
    "application/vnd.databricks.v1+cell": {
     "cellMetadata": {
      "byteLimit": 2048000,
      "implicitDf": true,
      "rowLimit": 10000
     },
     "inputWidgets": {},
     "nuid": "d7df1070-0215-4e62-a093-bc86b7ee5a66",
     "showTitle": false,
     "tableResultSettingsMap": {},
     "title": ""
    }
   },
   "outputs": [],
   "source": [
    "%sql\n",
    "create or replace view dev.suren_gold.top_customers as \n",
    "(select customer_id, round(sum(total_amount)) as total_sales from dev.suren_silver.sales_cleaned group by all order by total_sales desc limit 3)"
   ]
  },
  {
   "cell_type": "code",
   "execution_count": 0,
   "metadata": {
    "application/vnd.databricks.v1+cell": {
     "cellMetadata": {
      "byteLimit": 2048000,
      "implicitDf": true,
      "rowLimit": 10000
     },
     "inputWidgets": {},
     "nuid": "810dadc4-2424-49ce-a583-8a3ae3b7d1e9",
     "showTitle": false,
     "tableResultSettingsMap": {},
     "title": ""
    }
   },
   "outputs": [],
   "source": [
    "%sql\n",
    "create or replace view dev.suren_gold.product_category as \n",
    "(SELECT \n",
    "    product_category, \n",
    "    round(SUM(product_price)) AS total_price\n",
    "FROM dev.suren_silver.product_scd\n",
    "GROUP BY product_category\n",
    "ORDER BY total_price DESC);"
   ]
  },
  {
   "cell_type": "code",
   "execution_count": 0,
   "metadata": {
    "application/vnd.databricks.v1+cell": {
     "cellMetadata": {
      "byteLimit": 2048000,
      "implicitDf": true,
      "rowLimit": 10000
     },
     "inputWidgets": {},
     "nuid": "9e668729-6334-4a94-82f8-f9aa7038c33b",
     "showTitle": false,
     "tableResultSettingsMap": {},
     "title": ""
    }
   },
   "outputs": [],
   "source": [
    "%sql\n",
    "create or replace function dev.suren_gold.get_sales_level (amount double)\n",
    "returns string\n",
    "return case \n",
    "    when amount > 1000 then 'High'\n",
    "    when amount > 500 then 'Medium'\n",
    "    else 'Low'\n",
    "end"
   ]
  },
  {
   "cell_type": "code",
   "execution_count": 0,
   "metadata": {
    "application/vnd.databricks.v1+cell": {
     "cellMetadata": {
      "byteLimit": 2048000,
      "implicitDf": true,
      "rowLimit": 10000
     },
     "inputWidgets": {},
     "nuid": "9a844fc7-12f5-487a-bef2-c6db88d620c8",
     "showTitle": false,
     "tableResultSettingsMap": {},
     "title": ""
    }
   },
   "outputs": [],
   "source": [
    "%sql\n",
    "create or replace view dev.suren_gold.sales_level as\n",
    "(select dev.suren_gold.get_sales_level(total_amount) as sales_level, count(*) as count from dev.suren_silver.sales_cleaned group by sales_level)"
   ]
  },
  {
   "cell_type": "code",
   "execution_count": 0,
   "metadata": {
    "application/vnd.databricks.v1+cell": {
     "cellMetadata": {
      "byteLimit": 2048000,
      "implicitDf": true,
      "rowLimit": 10000
     },
     "inputWidgets": {},
     "nuid": "d002de1b-0343-498b-aee3-2253231266dc",
     "showTitle": false,
     "tableResultSettingsMap": {},
     "title": ""
    }
   },
   "outputs": [],
   "source": [
    "%sql\n",
    "select * from dev.suren_gold.sales_level"
   ]
  }
 ],
 "metadata": {
  "application/vnd.databricks.v1+notebook": {
   "computePreferences": null,
   "dashboards": [],
   "environmentMetadata": {
    "base_environment": "",
    "environment_version": "2"
   },
   "inputWidgetPreferences": null,
   "language": "python",
   "notebookMetadata": {
    "mostRecentlyExecutedCommandWithImplicitDF": {
     "commandId": 5469217029713395,
     "dataframes": [
      "_sqldf"
     ]
    },
    "pythonIndentUnit": 4
   },
   "notebookName": "Day2",
   "widgets": {}
  },
  "language_info": {
   "name": "python"
  }
 },
 "nbformat": 4,
 "nbformat_minor": 0
}
